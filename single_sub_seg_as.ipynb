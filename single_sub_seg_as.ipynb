{
 "cells": [
  {
   "attachments": {},
   "cell_type": "markdown",
   "id": "793c3da2-34a6-4fce-a4d7-a6bcbe92219f",
   "metadata": {},
   "source": [
    "# Single Subject Segmentation Q1K"
   ]
  },
  {
   "cell_type": "code",
   "execution_count": 1,
   "id": "9450f6bf-4cb0-4e7e-bd64-f9dd953de143",
   "metadata": {},
   "outputs": [
    {
     "name": "stderr",
     "output_type": "stream",
     "text": [
      "<frozen importlib._bootstrap>:219: RuntimeWarning: The MNE-Python config file (/home/james/.mne/mne-python.json) is not a valid JSON file and might be corrupted\n"
     ]
    },
    {
     "name": "stdout",
     "output_type": "stream",
     "text": [
      "Using qt as 2D backend.\n"
     ]
    }
   ],
   "source": [
    "# import packages\n",
    "import q1k_sync_tools as qst\n",
    "import mne\n",
    "mne.viz.set_browser_backend('qt')\n",
    "import pandas as pd\n",
    "pd.options.mode.chained_assignment = None\n",
    "import pylossless as ll\n",
    "import numpy as np"
   ]
  },
  {
   "cell_type": "code",
   "execution_count": 2,
   "id": "da8dd771-45bd-425d-ad7c-63c6485c38f6",
   "metadata": {},
   "outputs": [],
   "source": [
    "# set file variables\n",
    "subject_raw_eeg = '/home/james/q1k/pilot/q1k-external-pilot/sourcedata/010_1/010_1_eeg/010_as_20230327_121110.mff'\n",
    "subject_raw_et = '/home/james/q1k/pilot/q1k-external-pilot/sourcedata/010_1/010_1_eyetracking/010_as_1.asc'\n",
    "subject_derivative = '/home/james/q1k/pilot/q1k-external-pilot/derivatives/pylossless/sub-010/eeg/sub-010_task-as_eeg.edf'\n",
    "task_code = 'as'"
   ]
  },
  {
   "cell_type": "code",
   "execution_count": 3,
   "id": "e7944695-b497-4aef-abb5-dddcba0a04bd",
   "metadata": {},
   "outputs": [
    {
     "name": "stdout",
     "output_type": "stream",
     "text": [
      "Reading EGI MFF Header from /home/james/q1k/pilot/q1k-external-pilot/sourcedata/010_1/010_1_eeg/010_as_20230327_121110.mff...\n",
      "    Reading events ...\n",
      "    Assembling measurement info ...\n",
      "    Synthesizing trigger channel \"STI 014\" ...\n",
      "    Excluding events {} ...\n"
     ]
    },
    {
     "name": "stderr",
     "output_type": "stream",
     "text": [
      "/tmp/ipykernel_5745/513645143.py:5: RuntimeWarning: The MNE-Python config file (/home/james/.mne/mne-python.json) is not a valid JSON file and might be corrupted\n",
      "  eeg_events = mne.find_events(eeg_raw, shortest_event=1)\n"
     ]
    },
    {
     "name": "stdout",
     "output_type": "stream",
     "text": [
      "899 events found\n",
      "Event IDs: [ 1  2  3  4  5  6  7  8  9 10 11 12 13 14 15 16 17 18 19 20 21 22 23 24\n",
      " 25 26]\n",
      "Done!\n"
     ]
    }
   ],
   "source": [
    "# Load EEG recording\n",
    "eeg_raw = mne.io.read_raw_egi(subject_raw_eeg)\n",
    "\n",
    "# Get event info from source recording\n",
    "eeg_events = mne.find_events(eeg_raw, shortest_event=1)\n",
    "eeg_event_dict = qst.get_event_dict(eeg_raw, eeg_events)\n",
    "\n",
    "\n",
    "\n",
    "# Below is for syncing EEG and ET sessions then combining the data.\n",
    "\n",
    "# Infer new events and labels from EEG paradigm procedure\n",
    "#eeg_events, eeg_stims, eeg_iti, eeg_event_dict = qst.eeg_event_test(eeg_events, eeg_event_dict, task_name=task_code)\n",
    "\n",
    "# Read eyetracking data and extact events\n",
    "#et_raw = mne.io.read_raw_eyelink(subject_raw_et)\n",
    "#et_annot_events, et_annot_event_dict = mne.events_from_annotations(et_raw)\n",
    "#et_raw_df = et_raw.to_data_frame()\n",
    "\n",
    "# Infer new events from paradigm procedure\n",
    "#et_event_raw_df, et_events, et_stims, et_iti = qst.et_event_test(et_raw_df, task_name=task_code)\n",
    "\n",
    "# Meld both ET and EEG together into new raw structure\n",
    "#eeg_et_raw = qst.eeg_et_combine(eeg_raw, et_raw, eeg_stims, et_stims)\n",
    "\n",
    "# Using the melded raw, build final event objects\n",
    "#eeg_et_events = mne.find_events(eeg_et_raw, shortest_event=1)\n",
    "#eeg_et_event_dict = qst.get_event_dict(eeg_et_raw, eeg_et_events)\n",
    "\n",
    "# Free up memory\n",
    "#del et_event_raw_df\n",
    "#del et_events\n",
    "#del et_stims\n",
    "#del et_iti\n",
    "#del et_raw_df\n",
    "#del et_annot_events\n",
    "#del et_annot_event_dict\n",
    "#del eeg_events\n",
    "#del eeg_stims\n",
    "#del eeg_iti\n",
    "#del eeg_event_dict"
   ]
  },
  {
   "cell_type": "code",
   "execution_count": 4,
   "id": "6469d9a0-cd26-475f-8255-5de93c6c5334",
   "metadata": {},
   "outputs": [
    {
     "name": "stdout",
     "output_type": "stream",
     "text": [
      "Extracting EDF parameters from /home/james/q1k/pilot/q1k-external-pilot/derivatives/pylossless/sub-010/eeg/sub-010_task-as_eeg.edf...\n",
      "EDF file detected\n",
      "Setting channel info structure...\n",
      "Creating raw.info structure...\n",
      "Reading events from /home/james/q1k/pilot/q1k-external-pilot/derivatives/pylossless/sub-010/eeg/sub-010_task-as_events.tsv.\n",
      "Reading channel info from /home/james/q1k/pilot/q1k-external-pilot/derivatives/pylossless/sub-010/eeg/sub-010_task-as_channels.tsv.\n",
      "Reading electrode coords from /home/james/q1k/pilot/q1k-external-pilot/derivatives/pylossless/sub-010/eeg/sub-010_space-CapTrak_electrodes.tsv.\n",
      "Reading /home/james/q1k/pilot/q1k-external-pilot/derivatives/pylossless/sub-010/eeg/sub-010_task-as_ica1_ica.fif ...\n",
      "Now restoring ICA solution ...\n",
      "Ready.\n",
      "Reading /home/james/q1k/pilot/q1k-external-pilot/derivatives/pylossless/sub-010/eeg/sub-010_task-as_ica2_ica.fif ...\n",
      "Now restoring ICA solution ...\n",
      "Ready.\n"
     ]
    },
    {
     "name": "stderr",
     "output_type": "stream",
     "text": [
      "/home/james/q1k/pilot/q1k-external-pilot/eeg-env/lib/python3.8/site-packages/pylossless/pipeline.py:1118: RuntimeWarning: The number of channels in the channels.tsv sidecar file (156) does not match the number of channels in the raw data file (129). Will not try to set channel names.\n",
      "  self.raw = mne_bids.read_raw_bids(derivatives_path)\n",
      "/home/james/q1k/pilot/q1k-external-pilot/eeg-env/lib/python3.8/site-packages/pylossless/pipeline.py:1118: RuntimeWarning: Cannot set channel type for the following channels, as they are missing in the raw data: DIN2, DIN3, DIN4, STI 014, TRSP, TSYN, VBeg, attn, bgn1, dbgl, dbgr, ddtl, ddtr, dfxl, dfxr, drwl, drwr, dtgl, dtgr, gbdl, gbdr, gbtl, gbtr, gfxl, gfxr, gttl, gttr\n",
      "  self.raw = mne_bids.read_raw_bids(derivatives_path)\n"
     ]
    }
   ],
   "source": [
    "# Build initial state; nothing applied yet\n",
    "ll_state = ll.LosslessPipeline()\n",
    "ll_state = ll_state.load_ll_derivative(subject_derivative)"
   ]
  },
  {
   "cell_type": "code",
   "execution_count": 5,
   "id": "a4727f94-86a8-4d64-9d53-7a546884c157",
   "metadata": {},
   "outputs": [
    {
     "name": "stderr",
     "output_type": "stream",
     "text": [
      "/tmp/ipykernel_5745/3207788246.py:2: RuntimeWarning: The MNE-Python config file (/home/james/.mne/mne-python.json) is not a valid JSON file and might be corrupted\n",
      "  mne.viz.plot_raw(ll_state.raw, events=eeg_events, event_id=eeg_event_dict)\n",
      "/tmp/ipykernel_5745/3207788246.py:2: RuntimeWarning: The MNE-Python config file (/home/james/.mne/mne-python.json) is not a valid JSON file and might be corrupted\n",
      "  mne.viz.plot_raw(ll_state.raw, events=eeg_events, event_id=eeg_event_dict)\n",
      "/tmp/ipykernel_5745/3207788246.py:2: RuntimeWarning: The MNE-Python config file (/home/james/.mne/mne-python.json) is not a valid JSON file and might be corrupted\n",
      "  mne.viz.plot_raw(ll_state.raw, events=eeg_events, event_id=eeg_event_dict)\n",
      "/tmp/ipykernel_5745/3207788246.py:2: RuntimeWarning: The MNE-Python config file (/home/james/.mne/mne-python.json) is not a valid JSON file and might be corrupted\n",
      "  mne.viz.plot_raw(ll_state.raw, events=eeg_events, event_id=eeg_event_dict)\n",
      "/tmp/ipykernel_5745/3207788246.py:2: RuntimeWarning: The MNE-Python config file (/home/james/.mne/mne-python.json) is not a valid JSON file and might be corrupted\n",
      "  mne.viz.plot_raw(ll_state.raw, events=eeg_events, event_id=eeg_event_dict)\n"
     ]
    },
    {
     "data": {
      "text/plain": [
       "<mne_qt_browser._pg_figure.MNEQtBrowser at 0x7ff2460bf0d0>"
      ]
     },
     "execution_count": 5,
     "metadata": {},
     "output_type": "execute_result"
    },
    {
     "name": "stdout",
     "output_type": "stream",
     "text": [
      "Channels marked as bad:\n",
      "['E125', 'E126', 'E127', 'E128']\n"
     ]
    },
    {
     "name": "stderr",
     "output_type": "stream",
     "text": [
      "Traceback (most recent call last):\n",
      "  File \"/home/james/q1k/pilot/q1k-external-pilot/eeg-env/lib/python3.8/site-packages/mne/utils/config.py\", line 216, in _load_config\n",
      "    config = json.load(fid)\n",
      "  File \"/usr/lib/python3.8/json/__init__.py\", line 293, in load\n",
      "    return loads(fp.read(),\n",
      "  File \"/usr/lib/python3.8/json/__init__.py\", line 357, in loads\n",
      "    return _default_decoder.decode(s)\n",
      "  File \"/usr/lib/python3.8/json/decoder.py\", line 337, in decode\n",
      "    obj, end = self.raw_decode(s, idx=_w(s, 0).end())\n",
      "  File \"/usr/lib/python3.8/json/decoder.py\", line 355, in raw_decode\n",
      "    raise JSONDecodeError(\"Expecting value\", s, err.value) from None\n",
      "json.decoder.JSONDecodeError: Expecting value: line 1 column 1 (char 0)\n",
      "\n",
      "During handling of the above exception, another exception occurred:\n",
      "\n",
      "Traceback (most recent call last):\n",
      "  File \"/home/james/q1k/pilot/q1k-external-pilot/eeg-env/lib/python3.8/site-packages/mne_qt_browser/_pg_figure.py\", line 4630, in closeEvent\n",
      "    self._close(event)\n",
      "  File \"/home/james/q1k/pilot/q1k-external-pilot/eeg-env/lib/python3.8/site-packages/mne/viz/_figure.py\", line 439, in _close\n",
      "    set_config(\"MNE_BROWSE_RAW_SIZE\", str_size, set_env=False)\n",
      "  File \"/home/james/q1k/pilot/q1k-external-pilot/eeg-env/lib/python3.8/site-packages/mne/utils/config.py\", line 369, in set_config\n",
      "    config = _load_config(config_path, raise_error=True)\n",
      "  File \"/home/james/q1k/pilot/q1k-external-pilot/eeg-env/lib/python3.8/site-packages/mne/utils/config.py\", line 224, in _load_config\n",
      "    raise RuntimeError(msg)\n",
      "RuntimeError: The MNE-Python config file (/home/james/.mne/mne-python.json) is not a valid JSON file and might be corrupted\n"
     ]
    }
   ],
   "source": [
    "# Plot channel data only\n",
    "mne.viz.plot_raw(ll_state.raw, events=eeg_events, event_id=eeg_event_dict)"
   ]
  },
  {
   "cell_type": "code",
   "execution_count": 13,
   "id": "4be2d5be-72a4-42e7-a105-bd627e0b185c",
   "metadata": {},
   "outputs": [
    {
     "name": "stdout",
     "output_type": "stream",
     "text": [
      "Creating RawArray with float64 data, n_channels=36, n_times=636000\n",
      "    Range : 0 ... 635999 =      0.000 ...   635.999 secs\n",
      "Ready.\n"
     ]
    },
    {
     "name": "stderr",
     "output_type": "stream",
     "text": [
      "/tmp/ipykernel_5745/3481972499.py:3: RuntimeWarning: The MNE-Python config file (/home/james/.mne/mne-python.json) is not a valid JSON file and might be corrupted\n",
      "  ll_state.ica2.plot_sources(ll_state.raw)\n",
      "/tmp/ipykernel_5745/3481972499.py:3: RuntimeWarning: The MNE-Python config file (/home/james/.mne/mne-python.json) is not a valid JSON file and might be corrupted\n",
      "  ll_state.ica2.plot_sources(ll_state.raw)\n",
      "/tmp/ipykernel_5745/3481972499.py:3: RuntimeWarning: The MNE-Python config file (/home/james/.mne/mne-python.json) is not a valid JSON file and might be corrupted\n",
      "  ll_state.ica2.plot_sources(ll_state.raw)\n",
      "/tmp/ipykernel_5745/3481972499.py:3: RuntimeWarning: The MNE-Python config file (/home/james/.mne/mne-python.json) is not a valid JSON file and might be corrupted\n",
      "  ll_state.ica2.plot_sources(ll_state.raw)\n",
      "/tmp/ipykernel_5745/3481972499.py:3: RuntimeWarning: The MNE-Python config file (/home/james/.mne/mne-python.json) is not a valid JSON file and might be corrupted\n",
      "  ll_state.ica2.plot_sources(ll_state.raw)\n"
     ]
    },
    {
     "data": {
      "text/plain": [
       "<mne_qt_browser._pg_figure.MNEQtBrowser at 0x7ff21e12cf70>"
      ]
     },
     "execution_count": 13,
     "metadata": {},
     "output_type": "execute_result"
    }
   ],
   "source": [
    "%matplotlib qt\n",
    "# Plot comonents\n",
    "ll_state.ica2.plot_sources(ll_state.raw)\n"
   ]
  },
  {
   "cell_type": "code",
   "execution_count": 7,
   "id": "debe73dc-6b97-4d80-b9f7-f5725e2ee99a",
   "metadata": {},
   "outputs": [
    {
     "data": {
      "text/plain": [
       "[<MNEFigure size 975x967 with 20 Axes>, <MNEFigure size 975x967 with 16 Axes>]"
      ]
     },
     "execution_count": 7,
     "metadata": {},
     "output_type": "execute_result"
    }
   ],
   "source": [
    "%matplotlib qt\n",
    "# Plot topos\n",
    "ll_state.ica2.plot_components(inst=ll_state.raw)"
   ]
  },
  {
   "cell_type": "code",
   "execution_count": 8,
   "id": "52cd0e57-1d0f-4733-89da-62d186a9a88b",
   "metadata": {},
   "outputs": [
    {
     "name": "stdout",
     "output_type": "stream",
     "text": [
      "{'bridge': array(['E46', 'E47', 'E73', 'E82', 'E99', 'E100', 'E101', 'E123', 'E124'],\n",
      "      dtype=object), 'ch_sd': array(['E8', 'E39', 'E44', 'E49', 'E107'], dtype=object), 'low_r': array(['E22'], dtype=object), 'rank': array(['E56'], dtype=object)}\n",
      "Reading 0 ... 635999  =      0.000 ...   635.999 secs...\n"
     ]
    },
    {
     "name": "stdout",
     "output_type": "stream",
     "text": [
      "Applying ICA to Raw instance\n",
      "    Transforming to ICA space (36 components)\n",
      "    Zeroing out 13 ICA components\n",
      "    Projecting back using 109 PCA components\n",
      "Filtering raw data in 1 contiguous segment\n",
      "Setting up band-pass filter from 1 - 40 Hz\n",
      "\n",
      "FIR filter parameters\n",
      "---------------------\n",
      "Designing a one-pass, zero-phase, non-causal bandpass filter:\n",
      "- Windowed time-domain design (firwin) method\n",
      "- Hamming window with 0.0194 passband ripple and 53 dB stopband attenuation\n",
      "- Lower passband edge: 1.00\n",
      "- Lower transition bandwidth: 1.00 Hz (-6 dB cutoff frequency: 0.50 Hz)\n",
      "- Upper passband edge: 40.00 Hz\n",
      "- Upper transition bandwidth: 10.00 Hz (-6 dB cutoff frequency: 45.00 Hz)\n",
      "- Filter length: 3301 samples (3.301 s)\n",
      "\n"
     ]
    },
    {
     "name": "stderr",
     "output_type": "stream",
     "text": [
      "/tmp/ipykernel_5745/612925448.py:17: RuntimeWarning: The MNE-Python config file (/home/james/.mne/mne-python.json) is not a valid JSON file and might be corrupted\n",
      "  ll_qcr = ll_qcr.filter(l_freq=1.0, h_freq=40.0)\n",
      "/tmp/ipykernel_5745/612925448.py:17: RuntimeWarning: The MNE-Python config file (/home/james/.mne/mne-python.json) is not a valid JSON file and might be corrupted\n",
      "  ll_qcr = ll_qcr.filter(l_freq=1.0, h_freq=40.0)\n",
      "[Parallel(n_jobs=1)]: Using backend SequentialBackend with 1 concurrent workers.\n",
      "[Parallel(n_jobs=1)]: Done   1 out of   1 | elapsed:    0.0s remaining:    0.0s\n",
      "[Parallel(n_jobs=1)]: Done   2 out of   2 | elapsed:    0.1s remaining:    0.0s\n",
      "[Parallel(n_jobs=1)]: Done   3 out of   3 | elapsed:    0.1s remaining:    0.0s\n",
      "[Parallel(n_jobs=1)]: Done   4 out of   4 | elapsed:    0.1s remaining:    0.0s\n"
     ]
    },
    {
     "name": "stdout",
     "output_type": "stream",
     "text": [
      "EEG channel type selected for re-referencing\n",
      "Applying average reference.\n",
      "Applying a custom ('EEG',) reference.\n"
     ]
    },
    {
     "name": "stderr",
     "output_type": "stream",
     "text": [
      "[Parallel(n_jobs=1)]: Done 129 out of 129 | elapsed:    3.4s finished\n",
      "/home/james/q1k/pilot/q1k-external-pilot/eeg-env/lib/python3.8/site-packages/IPython/core/formatters.py:344: RuntimeWarning: The MNE-Python config file (/home/james/.mne/mne-python.json) is not a valid JSON file and might be corrupted\n",
      "  return method()\n",
      "/home/james/q1k/pilot/q1k-external-pilot/eeg-env/lib/python3.8/site-packages/IPython/core/formatters.py:344: RuntimeWarning: The MNE-Python config file (/home/james/.mne/mne-python.json) is not a valid JSON file and might be corrupted\n",
      "  return method()\n"
     ]
    },
    {
     "data": {
      "text/html": [
       "<table class=\"table table-hover table-striped table-sm table-responsive small\">\n",
       "    <tr>\n",
       "        <th>Measurement date</th>\n",
       "        \n",
       "        <td>March 25, 2023  12:26:23 GMT</td>\n",
       "        \n",
       "    </tr>\n",
       "    <tr>\n",
       "        <th>Experimenter</th>\n",
       "        \n",
       "        <td>mne_anonymize</td>\n",
       "        \n",
       "    </tr>\n",
       "        <th>Participant</th>\n",
       "        \n",
       "            \n",
       "            <td>sub-010</td>\n",
       "            \n",
       "        \n",
       "    </tr>\n",
       "    <tr>\n",
       "        <th>Digitized points</th>\n",
       "        \n",
       "        <td>132 points</td>\n",
       "        \n",
       "    </tr>\n",
       "    <tr>\n",
       "        <th>Good channels</th>\n",
       "        <td>129 EEG</td>\n",
       "    </tr>\n",
       "    <tr>\n",
       "        <th>Bad channels</th>\n",
       "        <td>E39, E128, E127, E124, E125, E8, E46, E73, E56, E44, E49, E100, E82, E101, E22, E126, E107, E47, E99, E123</td>\n",
       "    </tr>\n",
       "    <tr>\n",
       "        <th>EOG channels</th>\n",
       "        <td>Not available</td>\n",
       "    </tr>\n",
       "    <tr>\n",
       "        <th>ECG channels</th>\n",
       "        <td>Not available</td>\n",
       "    \n",
       "    <tr>\n",
       "        <th>Sampling frequency</th>\n",
       "        <td>1000.00 Hz</td>\n",
       "    </tr>\n",
       "    \n",
       "    \n",
       "    <tr>\n",
       "        <th>Highpass</th>\n",
       "        <td>1.00 Hz</td>\n",
       "    </tr>\n",
       "    \n",
       "    \n",
       "    <tr>\n",
       "        <th>Lowpass</th>\n",
       "        <td>40.00 Hz</td>\n",
       "    </tr>\n",
       "    \n",
       "    \n",
       "    \n",
       "    <tr>\n",
       "        <th>Filenames</th>\n",
       "        <td>sub-010_task-as_eeg.edf</td>\n",
       "    </tr>\n",
       "    \n",
       "    <tr>\n",
       "        <th>Duration</th>\n",
       "        <td>00:10:36 (HH:MM:SS)</td>\n",
       "    </tr>\n",
       "</table>"
      ],
      "text/plain": [
       "<RawEDF | sub-010_task-as_eeg.edf, 129 x 636000 (636.0 s), ~626.1 MB, data loaded>"
      ]
     },
     "execution_count": 8,
     "metadata": {},
     "output_type": "execute_result"
    },
    {
     "name": "stderr",
     "output_type": "stream",
     "text": [
      "Traceback (most recent call last):\n",
      "  File \"/home/james/q1k/pilot/q1k-external-pilot/eeg-env/lib/python3.8/site-packages/mne/utils/config.py\", line 216, in _load_config\n",
      "    config = json.load(fid)\n",
      "  File \"/usr/lib/python3.8/json/__init__.py\", line 293, in load\n",
      "    return loads(fp.read(),\n",
      "  File \"/usr/lib/python3.8/json/__init__.py\", line 357, in loads\n",
      "    return _default_decoder.decode(s)\n",
      "  File \"/usr/lib/python3.8/json/decoder.py\", line 337, in decode\n",
      "    obj, end = self.raw_decode(s, idx=_w(s, 0).end())\n",
      "  File \"/usr/lib/python3.8/json/decoder.py\", line 355, in raw_decode\n",
      "    raise JSONDecodeError(\"Expecting value\", s, err.value) from None\n",
      "json.decoder.JSONDecodeError: Expecting value: line 1 column 1 (char 0)\n",
      "\n",
      "During handling of the above exception, another exception occurred:\n",
      "\n",
      "Traceback (most recent call last):\n",
      "  File \"/home/james/q1k/pilot/q1k-external-pilot/eeg-env/lib/python3.8/site-packages/mne_qt_browser/_pg_figure.py\", line 4630, in closeEvent\n",
      "    self._close(event)\n",
      "  File \"/home/james/q1k/pilot/q1k-external-pilot/eeg-env/lib/python3.8/site-packages/mne/viz/_figure.py\", line 439, in _close\n",
      "    set_config(\"MNE_BROWSE_RAW_SIZE\", str_size, set_env=False)\n",
      "  File \"/home/james/q1k/pilot/q1k-external-pilot/eeg-env/lib/python3.8/site-packages/mne/utils/config.py\", line 369, in set_config\n",
      "    config = _load_config(config_path, raise_error=True)\n",
      "  File \"/home/james/q1k/pilot/q1k-external-pilot/eeg-env/lib/python3.8/site-packages/mne/utils/config.py\", line 224, in _load_config\n",
      "    raise RuntimeError(msg)\n",
      "RuntimeError: The MNE-Python config file (/home/james/.mne/mne-python.json) is not a valid JSON file and might be corrupted\n"
     ]
    }
   ],
   "source": [
    "# Merge marks down to bads (aka manual)\n",
    "ll_qcr = ll_state.raw.copy()\n",
    "manual = []\n",
    "for flag_type in ll_state.flags['ch']:\n",
    "    manual.extend(ll_state.flags['ch'][flag_type])\n",
    "print(ll_state.flags['ch'])\n",
    "ll_qcr.info['bads'].extend(manual)\n",
    "ll_qcr.info['bads'] = list(set(ll_qcr.info['bads']))\n",
    "\n",
    "# Go read the ICLabel info from file and add to exclude\n",
    "df = pd.read_csv(subject_derivative.replace('_eeg.edf', '_iclabels.tsv'), sep='\\t')\n",
    "ll_state.ica2.exclude = list(df[df['ic_type'].str.match('eog|muscle|ch_noise|ecg')].index)\n",
    "\n",
    "# Load the data and apply the ICA\n",
    "ll_qcr.load_data()\n",
    "ll_state.ica2.apply(ll_qcr)\n",
    "ll_qcr = ll_qcr.filter(l_freq=1.0, h_freq=40.0)\n",
    "ll_qcr = ll_qcr.set_eeg_reference(ref_channels=\"average\")\n",
    "ll_qcr"
   ]
  },
  {
   "cell_type": "code",
   "execution_count": 19,
   "id": "b7cec820-0e16-4206-8a30-a94ffef94e8d",
   "metadata": {},
   "outputs": [
    {
     "data": {
      "text/plain": [
       "<mne_qt_browser._pg_figure.MNEQtBrowser at 0x7f66e8b12c10>"
      ]
     },
     "execution_count": 19,
     "metadata": {},
     "output_type": "execute_result"
    },
    {
     "name": "stdout",
     "output_type": "stream",
     "text": [
      "Channels marked as bad:\n",
      "['E99', 'E101', 'E39', 'E46', 'E125', 'E126', 'E73', 'E100', 'E47', 'E128', 'E8', 'E22', 'E82', 'E44', 'E127', 'E56', 'E107', 'E124', 'E49', 'E123']\n"
     ]
    }
   ],
   "source": [
    "# Plot cleaned data\n",
    "mne.viz.plot_raw(ll_qcr, events=eeg_events, event_id=eeg_event_dict)"
   ]
  },
  {
   "cell_type": "code",
   "execution_count": 17,
   "id": "d9ea62c5",
   "metadata": {},
   "outputs": [
    {
     "data": {
      "text/plain": [
       "{'bgn1': 1,\n",
       " 'TSYN': 2,\n",
       " 'dfxr': 3,\n",
       " 'gfxr': 4,\n",
       " 'ddtr': 5,\n",
       " 'dbgr': 6,\n",
       " 'dtgr': 8,\n",
       " 'gttr': 9,\n",
       " 'drwr': 10,\n",
       " 'TRSP': 11,\n",
       " 'gbtr': 13,\n",
       " 'dfxl': 14,\n",
       " 'gfxl': 15,\n",
       " 'ddtl': 16,\n",
       " 'gdtl': 17,\n",
       " 'drwl': 18,\n",
       " 'dbgl': 19,\n",
       " 'gbtl': 21,\n",
       " 'DIN3': 23,\n",
       " 'DIN4': 24,\n",
       " 'DIN2': 25,\n",
       " 'VBeg': 26,\n",
       " 'distractor/ontime/gddl': 22,\n",
       " 'distractor/ontime/gddr': 12,\n",
       " 'distractor/late/gbdr': 7,\n",
       " 'distractor/late/gbdl': 20}"
      ]
     },
     "execution_count": 17,
     "metadata": {},
     "output_type": "execute_result"
    }
   ],
   "source": [
    "eeg_event_dict\n"
   ]
  },
  {
   "cell_type": "code",
   "execution_count": 22,
   "id": "683637b5-68e7-4760-8112-991d708d900a",
   "metadata": {},
   "outputs": [
    {
     "data": {
      "text/plain": [
       "{'TSYN': 1,\n",
       " 'bgn1': 2,\n",
       " 'attn': 3,\n",
       " 'TRSP': 4,\n",
       " 'dfxr': 5,\n",
       " 'gfxr': 6,\n",
       " 'ddtr': 7,\n",
       " 'dbgr': 8,\n",
       " 'dtgr': 9,\n",
       " 'drwr': 11,\n",
       " 'dfxl': 14,\n",
       " 'gfxl': 15,\n",
       " 'ddtl': 16,\n",
       " 'dbgl': 17,\n",
       " 'dtgl': 19,\n",
       " 'gttl': 20,\n",
       " 'drwl': 21,\n",
       " 'DIN3': 23,\n",
       " 'DIN4': 24,\n",
       " 'DIN2': 25,\n",
       " 'VBeg': 26,\n",
       " 'distractor/late/gbdr': 12,\n",
       " 'distractor/late/gbdl': 18,\n",
       " 'target/ontime/gddr': 10,\n",
       " 'target/early/gbtr': 13,\n",
       " 'target/early/gbtl': 22}"
      ]
     },
     "execution_count": 22,
     "metadata": {},
     "output_type": "execute_result"
    }
   ],
   "source": [
    "# Relabel condition vars for niceness\n",
    "#eeg_event_dict['distractor/ontime/gddl'] = eeg_event_dict.pop('gddl')\n",
    "#eeg_event_dict['distractor/ontime/gddr'] = eeg_event_dict.pop('gddr')\n",
    "#eeg_event_dict['distractor/late/gbdr'] = eeg_event_dict.pop('gbdr')\n",
    "#eeg_event_dict['distractor/late/gbdl'] = eeg_event_dict.pop('gbdl')\n",
    "\n",
    "#eeg_event_dict['target/ontime/gddl'] = eeg_event_dict.pop('gttl')\n",
    "#eeg_event_dict['target/ontime/gddr'] = eeg_event_dict.pop('gttr')\n",
    "#eeg_event_dict['target/early/gbtr'] = eeg_event_dict.pop('gbtr')\n",
    "#eeg_event_dict['target/early/gbtl'] = eeg_event_dict.pop('gbtl')\n",
    "\n",
    "#eeg_event_dict"
   ]
  },
  {
   "cell_type": "code",
   "execution_count": 9,
   "id": "4e7a968b",
   "metadata": {},
   "outputs": [
    {
     "data": {
      "text/plain": [
       "{'TSYN': 1,\n",
       " 'bgn1': 2,\n",
       " 'attn': 3,\n",
       " 'TRSP': 4,\n",
       " 'dfxr': 5,\n",
       " 'gfxr': 6,\n",
       " 'dbgr': 8,\n",
       " 'gttr': 10,\n",
       " 'drwr': 11,\n",
       " 'gbdr': 12,\n",
       " 'gbtr': 13,\n",
       " 'dfxl': 14,\n",
       " 'gfxl': 15,\n",
       " 'dbgl': 17,\n",
       " 'gbdl': 18,\n",
       " 'gttl': 20,\n",
       " 'drwl': 21,\n",
       " 'gbtl': 22,\n",
       " 'DIN3': 23,\n",
       " 'DIN4': 24,\n",
       " 'DIN2': 25,\n",
       " 'VBeg': 26,\n",
       " 'distractor/disp/left/ddtl': 16,\n",
       " 'distractor/disp/right/ddtr': 7,\n",
       " 'target/disp/left/dttl': 19,\n",
       " 'target/disp/right/dttr': 9}"
      ]
     },
     "execution_count": 9,
     "metadata": {},
     "output_type": "execute_result"
    }
   ],
   "source": [
    "# Relabel condition vars for niceness\n",
    "eeg_event_dict['distractor/disp/left/ddtl'] = eeg_event_dict.pop('ddtl')\n",
    "eeg_event_dict['distractor/disp/right/ddtr'] = eeg_event_dict.pop('ddtr')\n",
    "\n",
    "eeg_event_dict['target/disp/left/dttl'] = eeg_event_dict.pop('dtgl')\n",
    "eeg_event_dict['target/disp/right/dttr'] = eeg_event_dict.pop('dtgr')\n",
    "\n",
    "eeg_event_dict"
   ]
  },
  {
   "cell_type": "code",
   "execution_count": 10,
   "id": "637d1728-ecb9-4410-b6c4-bafe19a56bbe",
   "metadata": {},
   "outputs": [
    {
     "name": "stdout",
     "output_type": "stream",
     "text": [
      "Not setting metadata\n",
      "899 matching events found\n",
      "Setting baseline interval to [-0.5, 0.0] s\n",
      "Applying baseline correction (mode: mean)\n",
      "0 projection items activated\n"
     ]
    },
    {
     "name": "stderr",
     "output_type": "stream",
     "text": [
      "/home/james/q1k/pilot/q1k-external-pilot/eeg-env/lib/python3.8/site-packages/IPython/core/formatters.py:344: RuntimeWarning: The MNE-Python config file (/home/james/.mne/mne-python.json) is not a valid JSON file and might be corrupted\n",
      "  return method()\n"
     ]
    },
    {
     "data": {
      "text/html": [
       "<table class=\"table table-hover table-striped table-sm table-responsive small\">\n",
       "    <tr>\n",
       "        <th>Number of events</th>\n",
       "        <td>899</td>\n",
       "    </tr>\n",
       "    <tr>\n",
       "        <th>Events</th>\n",
       "        \n",
       "        <td>DIN2: 100<br/>DIN3: 112<br/>DIN4: 161<br/>TRSP: 61<br/>TSYN: 7<br/>VBeg: 1<br/>attn: 9<br/>bgn1: 61<br/>dbgl: 26<br/>dbgr: 26<br/>dfxl: 26<br/>dfxr: 26<br/>distractor/disp/left/ddtl: 26<br/>distractor/disp/right/ddtr: 26<br/>drwl: 26<br/>drwr: 26<br/>gbdl: 25<br/>gbdr: 3<br/>gbtl: 1<br/>gbtr: 3<br/>gfxl: 26<br/>gfxr: 26<br/>gttl: 24<br/>gttr: 23<br/>target/disp/left/dttl: 25<br/>target/disp/right/dttr: 23</td>\n",
       "        \n",
       "    </tr>\n",
       "    <tr>\n",
       "        <th>Time range</th>\n",
       "        <td>-0.500 – 1.000 s</td>\n",
       "    </tr>\n",
       "    <tr>\n",
       "        <th>Baseline</th>\n",
       "        <td>-0.500 – 0.000 s</td>\n",
       "    </tr>\n",
       "</table>"
      ],
      "text/plain": [
       "<Epochs |  899 events (good & bad), -0.5 – 1 s, baseline -0.5 – 0 s, ~178 kB, data not loaded,\n",
       " 'TSYN': 7\n",
       " 'bgn1': 61\n",
       " 'attn': 9\n",
       " 'TRSP': 61\n",
       " 'dfxr': 26\n",
       " 'gfxr': 26\n",
       " 'dbgr': 26\n",
       " 'gttr': 23\n",
       " 'drwr': 26\n",
       " 'gbdr': 3\n",
       " and 16 more events ...>"
      ]
     },
     "execution_count": 10,
     "metadata": {},
     "output_type": "execute_result"
    }
   ],
   "source": [
    "# Epoch structure is created for ALL events, then you 'segment' by indexing into it\n",
    "epochs = mne.Epochs(ll_qcr, eeg_events, event_id=eeg_event_dict, tmin=-0.5, tmax=1.0, on_missing='warn')\n",
    "epochs"
   ]
  },
  {
   "cell_type": "code",
   "execution_count": 11,
   "id": "507abac9-5037-43bc-8e60-c1432e6b7de7",
   "metadata": {},
   "outputs": [
    {
     "name": "stderr",
     "output_type": "stream",
     "text": [
      "/home/james/q1k/pilot/q1k-external-pilot/eeg-env/lib/python3.8/site-packages/IPython/core/formatters.py:344: RuntimeWarning: The MNE-Python config file (/home/james/.mne/mne-python.json) is not a valid JSON file and might be corrupted\n",
      "  return method()\n"
     ]
    },
    {
     "data": {
      "text/html": [
       "<table class=\"table table-hover table-striped table-sm table-responsive small\">\n",
       "    <tr>\n",
       "        <th>Number of events</th>\n",
       "        <td>100</td>\n",
       "    </tr>\n",
       "    <tr>\n",
       "        <th>Events</th>\n",
       "        \n",
       "        <td>distractor/disp/left/ddtl: 26<br/>distractor/disp/right/ddtr: 26<br/>target/disp/left/dttl: 25<br/>target/disp/right/dttr: 23</td>\n",
       "        \n",
       "    </tr>\n",
       "    <tr>\n",
       "        <th>Time range</th>\n",
       "        <td>-0.500 – 1.000 s</td>\n",
       "    </tr>\n",
       "    <tr>\n",
       "        <th>Baseline</th>\n",
       "        <td>-0.500 – 0.000 s</td>\n",
       "    </tr>\n",
       "</table>"
      ],
      "text/plain": [
       "<Epochs |  100 events (good & bad), -0.5 – 1 s, baseline -0.5 – 0 s, ~177 kB, data not loaded,\n",
       " 'distractor/disp/left/ddtl': 26\n",
       " 'distractor/disp/right/ddtr': 26\n",
       " 'target/disp/left/dttl': 25\n",
       " 'target/disp/right/dttr': 23>"
      ]
     },
     "execution_count": 11,
     "metadata": {},
     "output_type": "execute_result"
    }
   ],
   "source": [
    "# Check trial counts\n",
    "epochs[['distractor', 'target']]"
   ]
  },
  {
   "cell_type": "code",
   "execution_count": 14,
   "id": "2ba69bf0-1306-4fc0-b58a-44a24c804234",
   "metadata": {},
   "outputs": [
    {
     "name": "stdout",
     "output_type": "stream",
     "text": [
      "NOTE: pick_channels() is a legacy function. New code should use inst.pick(...).\n",
      "NOTE: pick_channels() is a legacy function. New code should use inst.pick(...).\n",
      "combining channels using \"mean\"\n",
      "combining channels using \"mean\"\n"
     ]
    },
    {
     "name": "stderr",
     "output_type": "stream",
     "text": [
      "/tmp/ipykernel_5745/134790767.py:4: RuntimeWarning: Only 1 channel in \"picks\"; cannot combine by method \"mean\".\n",
      "  mne.viz.plot_compare_evokeds(evokeds, picks=['E6'], combine='mean')\n"
     ]
    },
    {
     "data": {
      "text/plain": [
       "[<Figure size 800x600 with 2 Axes>]"
      ]
     },
     "execution_count": 14,
     "metadata": {},
     "output_type": "execute_result"
    },
    {
     "name": "stderr",
     "output_type": "stream",
     "text": [
      "Traceback (most recent call last):\n",
      "  File \"/home/james/q1k/pilot/q1k-external-pilot/eeg-env/lib/python3.8/site-packages/mne/utils/config.py\", line 216, in _load_config\n",
      "    config = json.load(fid)\n",
      "  File \"/usr/lib/python3.8/json/__init__.py\", line 293, in load\n",
      "    return loads(fp.read(),\n",
      "  File \"/usr/lib/python3.8/json/__init__.py\", line 357, in loads\n",
      "    return _default_decoder.decode(s)\n",
      "  File \"/usr/lib/python3.8/json/decoder.py\", line 337, in decode\n",
      "    obj, end = self.raw_decode(s, idx=_w(s, 0).end())\n",
      "  File \"/usr/lib/python3.8/json/decoder.py\", line 355, in raw_decode\n",
      "    raise JSONDecodeError(\"Expecting value\", s, err.value) from None\n",
      "json.decoder.JSONDecodeError: Expecting value: line 1 column 1 (char 0)\n",
      "\n",
      "During handling of the above exception, another exception occurred:\n",
      "\n",
      "Traceback (most recent call last):\n",
      "  File \"/home/james/q1k/pilot/q1k-external-pilot/eeg-env/lib/python3.8/site-packages/mne_qt_browser/_pg_figure.py\", line 4630, in closeEvent\n",
      "    self._close(event)\n",
      "  File \"/home/james/q1k/pilot/q1k-external-pilot/eeg-env/lib/python3.8/site-packages/mne/viz/_figure.py\", line 439, in _close\n",
      "    set_config(\"MNE_BROWSE_RAW_SIZE\", str_size, set_env=False)\n",
      "  File \"/home/james/q1k/pilot/q1k-external-pilot/eeg-env/lib/python3.8/site-packages/mne/utils/config.py\", line 369, in set_config\n",
      "    config = _load_config(config_path, raise_error=True)\n",
      "  File \"/home/james/q1k/pilot/q1k-external-pilot/eeg-env/lib/python3.8/site-packages/mne/utils/config.py\", line 224, in _load_config\n",
      "    raise RuntimeError(msg)\n",
      "RuntimeError: The MNE-Python config file (/home/james/.mne/mne-python.json) is not a valid JSON file and might be corrupted\n"
     ]
    }
   ],
   "source": [
    "# Plot ERPs\n",
    "evokeds = {'distractor': epochs['distractor'].average(), 'target': epochs['target'].average()}\n",
    "# evokeds = {'distractor': list(epochs['distractor'].iter_evoked()), 'target': list(epochs['target'].iter_evoked())}\n",
    "mne.viz.plot_compare_evokeds(evokeds, picks=['E6'], combine='mean')"
   ]
  },
  {
   "cell_type": "code",
   "execution_count": null,
   "id": "2395e760",
   "metadata": {},
   "outputs": [],
   "source": []
  }
 ],
 "metadata": {
  "kernelspec": {
   "display_name": "Python 3 (ipykernel)",
   "language": "python",
   "name": "python3"
  },
  "language_info": {
   "codemirror_mode": {
    "name": "ipython",
    "version": 3
   },
   "file_extension": ".py",
   "mimetype": "text/x-python",
   "name": "python",
   "nbconvert_exporter": "python",
   "pygments_lexer": "ipython3",
   "version": "3.8.10"
  }
 },
 "nbformat": 4,
 "nbformat_minor": 5
}
